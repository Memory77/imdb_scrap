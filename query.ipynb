{
 "cells": [
  {
   "cell_type": "code",
   "execution_count": 10,
   "metadata": {},
   "outputs": [],
   "source": [
    "import sqlite3\n",
    "\n",
    "connexion = sqlite3.connect('imdb.db')\n",
    "\n",
    "#creation d'un curseur a partir de la connexion pour effectuer des requetes sql.\n",
    "\n",
    "curseur = connexion.cursor()"
   ]
  },
  {
   "cell_type": "code",
   "execution_count": 11,
   "metadata": {},
   "outputs": [
    {
     "data": {
      "text/plain": [
       "[('Gone with the Wind', 238)]"
      ]
     },
     "execution_count": 11,
     "metadata": {},
     "output_type": "execute_result"
    }
   ],
   "source": [
    "# 1.Quel est le film le plus long ?\n",
    "\n",
    "curseur.execute('SELECT titre, duree from films f order by duree DESC limit 1')\n",
    "curseur.fetchall() #afficher"
   ]
  },
  {
   "cell_type": "code",
   "execution_count": 12,
   "metadata": {},
   "outputs": [
    {
     "data": {
      "text/plain": [
       "[('The Shawshank Redemption', 9.3),\n",
       " ('The Godfather', 9.2),\n",
       " ('12th Fail', 9.0),\n",
       " ('The Lord of the Rings: The Return of the King', 9.0),\n",
       " (\"Schindler's List\", 9.0)]"
      ]
     },
     "execution_count": 12,
     "metadata": {},
     "output_type": "execute_result"
    }
   ],
   "source": [
    "# 2. Quels sont les 5 films les mieux notés ?\n",
    "\n",
    "curseur.execute('SELECT titre, score from films f order by score DESC limit 5')\n",
    "curseur.fetchall() #afficher"
   ]
  },
  {
   "cell_type": "code",
   "execution_count": 21,
   "metadata": {},
   "outputs": [
    {
     "data": {
      "text/plain": [
       "[(7,)]"
      ]
     },
     "execution_count": 21,
     "metadata": {},
     "output_type": "execute_result"
    }
   ],
   "source": [
    "# 3. Dans combien de films a joué Morgan Freeman ? \n",
    "query1 = curseur.execute(\"SELECT count(titre) from films f where acteurs LIKE '%Morgan Freeman%'\")\n",
    "query1.fetchall() #afficher"
   ]
  },
  {
   "cell_type": "code",
   "execution_count": 23,
   "metadata": {},
   "outputs": [
    {
     "data": {
      "text/plain": [
       "[(1,)]"
      ]
     },
     "execution_count": 23,
     "metadata": {},
     "output_type": "execute_result"
    }
   ],
   "source": [
    "# Tom Cruise ?\n",
    "query2 = curseur.execute(\"SELECT count(titre) from films f WHERE acteurs LIKE '%Tom Cruise%'\")\n",
    "query2.fetchall()"
   ]
  }
 ],
 "metadata": {
  "kernelspec": {
   "display_name": "Python 3",
   "language": "python",
   "name": "python3"
  },
  "language_info": {
   "codemirror_mode": {
    "name": "ipython",
    "version": 3
   },
   "file_extension": ".py",
   "mimetype": "text/x-python",
   "name": "python",
   "nbconvert_exporter": "python",
   "pygments_lexer": "ipython3",
   "version": "3.11.0"
  }
 },
 "nbformat": 4,
 "nbformat_minor": 2
}
